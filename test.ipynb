{
 "cells": [
  {
   "cell_type": "code",
   "execution_count": 1,
   "metadata": {},
   "outputs": [],
   "source": [
    "import websocket\n",
    "import json\n",
    "import pandas as pd\n",
    "import numpy as np\n",
    "from datetime import datetime\n",
    "from dataUtils import *"
   ]
  },
  {
   "cell_type": "code",
   "execution_count": 2,
   "metadata": {},
   "outputs": [],
   "source": [
    "import keras\n",
    "model = keras.models.load_model(\"DNNMODEL\")\n",
    "# Loading mu and std\n",
    "import pickle\n",
    "params = pickle.load(open(\"params.pkl\", \"rb\"))\n",
    "mu = params[\"mu\"]\n",
    "std = params[\"std\"]"
   ]
  },
  {
   "cell_type": "code",
   "execution_count": 3,
   "metadata": {},
   "outputs": [],
   "source": [
    "dtypes = np.dtype([\n",
    "    ('date', str),\n",
    "    ('open', float),\n",
    "    ('high', float),\n",
    "    ('low', float),\n",
    "    ('close', float),\n",
    "    ('VolETH', float),\n",
    "    ('Returns', float),\n",
    "    ('Direction', float),\n",
    "    ('SMA', float),\n",
    "    ('EMA', float),\n",
    "    ('Min', float),\n",
    "    ('Max', float),\n",
    "    ('RSI', float),\n",
    "    ('UpperBB', float),\n",
    "    ('LowerBB', float),\n",
    "    ])\n",
    "data = np.empty(0, dtype=dtypes)\n",
    "df = pd.DataFrame(data)\n",
    "df.set_index([\"date\"], inplace=True)"
   ]
  },
  {
   "cell_type": "code",
   "execution_count": 4,
   "metadata": {},
   "outputs": [
    {
     "data": {
      "text/html": [
       "<div>\n",
       "<style scoped>\n",
       "    .dataframe tbody tr th:only-of-type {\n",
       "        vertical-align: middle;\n",
       "    }\n",
       "\n",
       "    .dataframe tbody tr th {\n",
       "        vertical-align: top;\n",
       "    }\n",
       "\n",
       "    .dataframe thead th {\n",
       "        text-align: right;\n",
       "    }\n",
       "</style>\n",
       "<table border=\"1\" class=\"dataframe\">\n",
       "  <thead>\n",
       "    <tr style=\"text-align: right;\">\n",
       "      <th></th>\n",
       "      <th>open</th>\n",
       "      <th>high</th>\n",
       "      <th>low</th>\n",
       "      <th>close</th>\n",
       "      <th>VolETH</th>\n",
       "      <th>Returns</th>\n",
       "      <th>Direction</th>\n",
       "      <th>SMA</th>\n",
       "      <th>EMA</th>\n",
       "      <th>Min</th>\n",
       "      <th>Max</th>\n",
       "      <th>RSI</th>\n",
       "      <th>UpperBB</th>\n",
       "      <th>LowerBB</th>\n",
       "    </tr>\n",
       "    <tr>\n",
       "      <th>date</th>\n",
       "      <th></th>\n",
       "      <th></th>\n",
       "      <th></th>\n",
       "      <th></th>\n",
       "      <th></th>\n",
       "      <th></th>\n",
       "      <th></th>\n",
       "      <th></th>\n",
       "      <th></th>\n",
       "      <th></th>\n",
       "      <th></th>\n",
       "      <th></th>\n",
       "      <th></th>\n",
       "      <th></th>\n",
       "    </tr>\n",
       "  </thead>\n",
       "  <tbody>\n",
       "  </tbody>\n",
       "</table>\n",
       "</div>"
      ],
      "text/plain": [
       "Empty DataFrame\n",
       "Columns: [open, high, low, close, VolETH, Returns, Direction, SMA, EMA, Min, Max, RSI, UpperBB, LowerBB]\n",
       "Index: []"
      ]
     },
     "execution_count": 4,
     "metadata": {},
     "output_type": "execute_result"
    }
   ],
   "source": [
    "df.head(10)"
   ]
  },
  {
   "cell_type": "code",
   "execution_count": 5,
   "metadata": {},
   "outputs": [],
   "source": [
    "def createNewFeatures(t):\n",
    "    if len(df.index)<2:\n",
    "        return\n",
    "\n",
    "    df.loc[t, 'Returns'] = np.log(df.iloc[-1]['close']/ df.iloc[-2]['close'])\n",
    "    df.loc[t, 'Direction'] = 1 if df.loc[t]['Returns'] > 0 else 0\n",
    "    \n",
    "    window = 5\n",
    "\n",
    "    if len(df.index)>30:\n",
    "        window=20\n",
    "    \n",
    "    if len(df.index)>window:\n",
    "        df.loc[t, 'SMA'] = df.tail(window)['close'].mean()\n",
    "        df['EMA'] = df['close'].ewm(span=20, adjust=False).mean()\n",
    "        df['Min'] = df.tail(window)['close'].min() / df['close'] - 1\n",
    "        df['Max'] = df.tail(window)['close'].max() / df['close'] - 1\n",
    "        df['RSI'] = get_RSI(df['close'])\n",
    "        SD = df.tail(window)['close'].std()\n",
    "        df.loc[t, 'UpperBB'] = df.loc[t]['SMA'] + (2 * SD)\n",
    "        df.loc[t, 'LowerBB'] = df.loc[t]['SMA'] - (2 * SD)"
   ]
  },
  {
   "cell_type": "code",
   "execution_count": 6,
   "metadata": {},
   "outputs": [],
   "source": [
    "def updateData(price, t, vol):\n",
    "    open, high, low, close, volume = 0,0,0,0,0\n",
    "    global df\n",
    "    if t in df.index:\n",
    "        open = df.loc[t]['open']\n",
    "        high = df.loc[t]['high']\n",
    "        low = df.loc[t]['low']\n",
    "        close = price\n",
    "        volume = df.loc[t]['VolETH'] + vol\n",
    "    else:\n",
    "        open = price\n",
    "        high = price\n",
    "        low = price\n",
    "        close = price\n",
    "        volume = vol\n",
    "        df = df.append(pd.Series(name=t, dtype=int))\n",
    "    \n",
    "\n",
    "    if price<low:\n",
    "        low = price\n",
    "    if price>high:\n",
    "        high = price\n",
    "    \n",
    "    df.loc[t, 'open'] = open\n",
    "    df.loc[t, 'high'] = high\n",
    "    df.loc[t, 'low'] = low\n",
    "    df.loc[t, 'close'] = close\n",
    "    df.loc[t, 'VolETH'] = volume\n",
    "#updateData()\n"
   ]
  },
  {
   "cell_type": "code",
   "execution_count": 7,
   "metadata": {},
   "outputs": [],
   "source": [
    "def createNewLags(lags, time):\n",
    "    cols = ['open', 'high', 'low', 'close', 'VolETH']\n",
    "    features = ['Direction', 'SMA', 'EMA', 'Min', 'Max', 'RSI', 'UpperBB', 'LowerBB']\n",
    "    for f in features:\n",
    "        for lag in range(1, lags+1):\n",
    "            col = \"{}_lag_{}\".format(f, lag)\n",
    "            df.loc[time, col] = df.iloc[-1-lag][f]\n",
    "            cols.append(col)\n",
    "    return cols    "
   ]
  },
  {
   "cell_type": "code",
   "execution_count": 8,
   "metadata": {},
   "outputs": [],
   "source": [
    "def predict(cols, time):\n",
    "    df_s = (df - mu) / std\n",
    "    pred = model.predict(df_s[cols])\n",
    "    print(pred[-1])"
   ]
  },
  {
   "cell_type": "code",
   "execution_count": 9,
   "metadata": {},
   "outputs": [],
   "source": [
    "def on_message(ws, message):\n",
    "    dict = json.loads(message)\n",
    "    price = dict['data'][0]['p']\n",
    "    time = datetime.fromtimestamp(int(dict['data'][0]['t']/1000))\n",
    "    time = time.strftime(\"%D %H:%M\")\n",
    "    vol = dict['data'][0]['v']\n",
    "    updateData(price, time, vol)\n",
    "    createNewFeatures(time)\n",
    "    cols = createNewLags(5, time)\n",
    "    predict(cols, time)\n",
    "    \n",
    "\n",
    "def on_error(ws, error):\n",
    "    print(error)\n",
    "\n",
    "def on_close(ws):\n",
    "    print(\"### closed ###\")\n",
    "\n",
    "def on_open(ws):\n",
    "    ws.send('{\"type\":\"subscribe\",\"symbol\":\"BINANCE:ETHUSDT\"}')\n"
   ]
  },
  {
   "cell_type": "code",
   "execution_count": 10,
   "metadata": {},
   "outputs": [],
   "source": [
    "ws = websocket.WebSocketApp(\"wss://ws.finnhub.io?token=c23hkuqad3ieeb1ld9jg\",\n",
    "                              on_message = on_message,\n",
    "                              on_error = on_error,\n",
    "                              on_close = on_close)"
   ]
  },
  {
   "cell_type": "code",
   "execution_count": null,
   "metadata": {
    "scrolled": true,
    "tags": []
   },
   "outputs": [],
   "source": [
    "ws.on_open = on_open\n",
    "ws.run_forever()"
   ]
  },
  {
   "cell_type": "code",
   "execution_count": null,
   "metadata": {},
   "outputs": [],
   "source": []
  }
 ],
 "metadata": {
  "kernelspec": {
   "display_name": "Python 3",
   "language": "python",
   "name": "python3"
  },
  "language_info": {
   "codemirror_mode": {
    "name": "ipython",
    "version": 3
   },
   "file_extension": ".py",
   "mimetype": "text/x-python",
   "name": "python",
   "nbconvert_exporter": "python",
   "pygments_lexer": "ipython3",
   "version": "3.8.6"
  }
 },
 "nbformat": 4,
 "nbformat_minor": 4
}
