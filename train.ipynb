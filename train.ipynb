{
 "cells": [
  {
   "cell_type": "code",
   "execution_count": 1,
   "metadata": {},
   "outputs": [],
   "source": [
    "import pandas as pd\n",
    "import numpy as np\n",
    "import matplotlib.pyplot as plt\n",
    "from dataUtils import *\n",
    "from DNNModel import *"
   ]
  },
  {
   "cell_type": "code",
   "execution_count": 2,
   "metadata": {},
   "outputs": [],
   "source": [
    "df = pd.read_csv(\"Binance_ETHUSDT_minute.csv\")\n",
    "df = df.iloc[::-1]\n",
    "df.set_index([\"date\"], inplace=True)"
   ]
  },
  {
   "cell_type": "code",
   "execution_count": 3,
   "metadata": {},
   "outputs": [
    {
     "data": {
      "text/html": [
       "<div>\n",
       "<style scoped>\n",
       "    .dataframe tbody tr th:only-of-type {\n",
       "        vertical-align: middle;\n",
       "    }\n",
       "\n",
       "    .dataframe tbody tr th {\n",
       "        vertical-align: top;\n",
       "    }\n",
       "\n",
       "    .dataframe thead th {\n",
       "        text-align: right;\n",
       "    }\n",
       "</style>\n",
       "<table border=\"1\" class=\"dataframe\">\n",
       "  <thead>\n",
       "    <tr style=\"text-align: right;\">\n",
       "      <th></th>\n",
       "      <th>open</th>\n",
       "      <th>high</th>\n",
       "      <th>low</th>\n",
       "      <th>close</th>\n",
       "      <th>VolETH</th>\n",
       "    </tr>\n",
       "    <tr>\n",
       "      <th>date</th>\n",
       "      <th></th>\n",
       "      <th></th>\n",
       "      <th></th>\n",
       "      <th></th>\n",
       "      <th></th>\n",
       "    </tr>\n",
       "  </thead>\n",
       "  <tbody>\n",
       "    <tr>\n",
       "      <th>9/11/2020 20:40</th>\n",
       "      <td>369.00</td>\n",
       "      <td>369.00</td>\n",
       "      <td>368.61</td>\n",
       "      <td>368.69</td>\n",
       "      <td>631.71643</td>\n",
       "    </tr>\n",
       "    <tr>\n",
       "      <th>9/11/2020 20:41</th>\n",
       "      <td>368.68</td>\n",
       "      <td>369.05</td>\n",
       "      <td>368.64</td>\n",
       "      <td>369.01</td>\n",
       "      <td>274.35788</td>\n",
       "    </tr>\n",
       "    <tr>\n",
       "      <th>9/11/2020 20:42</th>\n",
       "      <td>369.02</td>\n",
       "      <td>369.02</td>\n",
       "      <td>368.70</td>\n",
       "      <td>368.71</td>\n",
       "      <td>152.76667</td>\n",
       "    </tr>\n",
       "    <tr>\n",
       "      <th>9/11/2020 20:43</th>\n",
       "      <td>368.70</td>\n",
       "      <td>368.84</td>\n",
       "      <td>368.70</td>\n",
       "      <td>368.84</td>\n",
       "      <td>75.44480</td>\n",
       "    </tr>\n",
       "    <tr>\n",
       "      <th>9/11/2020 20:44</th>\n",
       "      <td>368.76</td>\n",
       "      <td>368.76</td>\n",
       "      <td>368.59</td>\n",
       "      <td>368.68</td>\n",
       "      <td>212.69913</td>\n",
       "    </tr>\n",
       "  </tbody>\n",
       "</table>\n",
       "</div>"
      ],
      "text/plain": [
       "                   open    high     low   close     VolETH\n",
       "date                                                      \n",
       "9/11/2020 20:40  369.00  369.00  368.61  368.69  631.71643\n",
       "9/11/2020 20:41  368.68  369.05  368.64  369.01  274.35788\n",
       "9/11/2020 20:42  369.02  369.02  368.70  368.71  152.76667\n",
       "9/11/2020 20:43  368.70  368.84  368.70  368.84   75.44480\n",
       "9/11/2020 20:44  368.76  368.76  368.59  368.68  212.69913"
      ]
     },
     "execution_count": 3,
     "metadata": {},
     "output_type": "execute_result"
    }
   ],
   "source": [
    "df.head()"
   ]
  },
  {
   "cell_type": "code",
   "execution_count": 4,
   "metadata": {},
   "outputs": [],
   "source": [
    "createFeatures(df)\n",
    "cols = createLags(df, 5)"
   ]
  },
  {
   "cell_type": "code",
   "execution_count": 5,
   "metadata": {},
   "outputs": [],
   "source": [
    "split = int(len(df)*0.7)\n",
    "train = df.iloc[:split].copy()\n",
    "test = df.iloc[split:].copy()"
   ]
  },
  {
   "cell_type": "code",
   "execution_count": 6,
   "metadata": {},
   "outputs": [
    {
     "data": {
      "text/html": [
       "<div>\n",
       "<style scoped>\n",
       "    .dataframe tbody tr th:only-of-type {\n",
       "        vertical-align: middle;\n",
       "    }\n",
       "\n",
       "    .dataframe tbody tr th {\n",
       "        vertical-align: top;\n",
       "    }\n",
       "\n",
       "    .dataframe thead th {\n",
       "        text-align: right;\n",
       "    }\n",
       "</style>\n",
       "<table border=\"1\" class=\"dataframe\">\n",
       "  <thead>\n",
       "    <tr style=\"text-align: right;\">\n",
       "      <th></th>\n",
       "      <th>open</th>\n",
       "      <th>high</th>\n",
       "      <th>low</th>\n",
       "      <th>close</th>\n",
       "      <th>VolETH</th>\n",
       "      <th>Returns</th>\n",
       "      <th>Direction</th>\n",
       "      <th>SMA</th>\n",
       "      <th>EMA</th>\n",
       "      <th>Min</th>\n",
       "      <th>...</th>\n",
       "      <th>UpperBB_lag_1</th>\n",
       "      <th>UpperBB_lag_2</th>\n",
       "      <th>UpperBB_lag_3</th>\n",
       "      <th>UpperBB_lag_4</th>\n",
       "      <th>UpperBB_lag_5</th>\n",
       "      <th>LowerBB_lag_1</th>\n",
       "      <th>LowerBB_lag_2</th>\n",
       "      <th>LowerBB_lag_3</th>\n",
       "      <th>LowerBB_lag_4</th>\n",
       "      <th>LowerBB_lag_5</th>\n",
       "    </tr>\n",
       "  </thead>\n",
       "  <tbody>\n",
       "    <tr>\n",
       "      <th>count</th>\n",
       "      <td>2.434170e+05</td>\n",
       "      <td>2.434170e+05</td>\n",
       "      <td>2.434170e+05</td>\n",
       "      <td>2.434170e+05</td>\n",
       "      <td>2.434170e+05</td>\n",
       "      <td>2.434170e+05</td>\n",
       "      <td>2.434170e+05</td>\n",
       "      <td>2.434170e+05</td>\n",
       "      <td>2.434170e+05</td>\n",
       "      <td>2.434170e+05</td>\n",
       "      <td>...</td>\n",
       "      <td>2.434170e+05</td>\n",
       "      <td>2.434170e+05</td>\n",
       "      <td>2.434170e+05</td>\n",
       "      <td>2.434170e+05</td>\n",
       "      <td>2.434170e+05</td>\n",
       "      <td>2.434170e+05</td>\n",
       "      <td>2.434170e+05</td>\n",
       "      <td>2.434170e+05</td>\n",
       "      <td>2.434170e+05</td>\n",
       "      <td>2.434170e+05</td>\n",
       "    </tr>\n",
       "    <tr>\n",
       "      <th>mean</th>\n",
       "      <td>2.241819e-17</td>\n",
       "      <td>-5.978184e-17</td>\n",
       "      <td>-1.270364e-16</td>\n",
       "      <td>1.494546e-17</td>\n",
       "      <td>-2.653403e-16</td>\n",
       "      <td>2.919035e-18</td>\n",
       "      <td>6.690428e-17</td>\n",
       "      <td>-2.017637e-16</td>\n",
       "      <td>-8.967275e-17</td>\n",
       "      <td>5.417729e-17</td>\n",
       "      <td>...</td>\n",
       "      <td>9.714548e-17</td>\n",
       "      <td>2.540728e-16</td>\n",
       "      <td>4.633092e-16</td>\n",
       "      <td>-4.633092e-16</td>\n",
       "      <td>7.472730e-17</td>\n",
       "      <td>6.725457e-17</td>\n",
       "      <td>-3.138546e-16</td>\n",
       "      <td>-4.259456e-16</td>\n",
       "      <td>2.989092e-16</td>\n",
       "      <td>1.793455e-16</td>\n",
       "    </tr>\n",
       "    <tr>\n",
       "      <th>std</th>\n",
       "      <td>1.000000e+00</td>\n",
       "      <td>1.000000e+00</td>\n",
       "      <td>1.000000e+00</td>\n",
       "      <td>1.000000e+00</td>\n",
       "      <td>1.000000e+00</td>\n",
       "      <td>1.000000e+00</td>\n",
       "      <td>1.000000e+00</td>\n",
       "      <td>1.000000e+00</td>\n",
       "      <td>1.000000e+00</td>\n",
       "      <td>1.000000e+00</td>\n",
       "      <td>...</td>\n",
       "      <td>1.000000e+00</td>\n",
       "      <td>1.000000e+00</td>\n",
       "      <td>1.000000e+00</td>\n",
       "      <td>1.000000e+00</td>\n",
       "      <td>1.000000e+00</td>\n",
       "      <td>1.000000e+00</td>\n",
       "      <td>1.000000e+00</td>\n",
       "      <td>1.000000e+00</td>\n",
       "      <td>1.000000e+00</td>\n",
       "      <td>1.000000e+00</td>\n",
       "    </tr>\n",
       "    <tr>\n",
       "      <th>min</th>\n",
       "      <td>-9.718544e-01</td>\n",
       "      <td>-9.701700e-01</td>\n",
       "      <td>-9.748694e-01</td>\n",
       "      <td>-9.720613e-01</td>\n",
       "      <td>-7.929719e-01</td>\n",
       "      <td>-3.045664e+01</td>\n",
       "      <td>-9.912081e-01</td>\n",
       "      <td>-9.636556e-01</td>\n",
       "      <td>-9.636843e-01</td>\n",
       "      <td>-1.953512e+01</td>\n",
       "      <td>...</td>\n",
       "      <td>-9.622218e-01</td>\n",
       "      <td>-9.622147e-01</td>\n",
       "      <td>-9.622075e-01</td>\n",
       "      <td>-9.622004e-01</td>\n",
       "      <td>-9.621933e-01</td>\n",
       "      <td>-9.718111e-01</td>\n",
       "      <td>-9.718040e-01</td>\n",
       "      <td>-9.717969e-01</td>\n",
       "      <td>-9.717898e-01</td>\n",
       "      <td>-9.717826e-01</td>\n",
       "    </tr>\n",
       "    <tr>\n",
       "      <th>25%</th>\n",
       "      <td>-8.293724e-01</td>\n",
       "      <td>-8.295709e-01</td>\n",
       "      <td>-8.291714e-01</td>\n",
       "      <td>-8.293787e-01</td>\n",
       "      <td>-5.196482e-01</td>\n",
       "      <td>-3.927321e-01</td>\n",
       "      <td>-9.912081e-01</td>\n",
       "      <td>-8.293935e-01</td>\n",
       "      <td>-8.294219e-01</td>\n",
       "      <td>-2.309277e-01</td>\n",
       "      <td>...</td>\n",
       "      <td>-8.302366e-01</td>\n",
       "      <td>-8.302304e-01</td>\n",
       "      <td>-8.302233e-01</td>\n",
       "      <td>-8.302189e-01</td>\n",
       "      <td>-8.302128e-01</td>\n",
       "      <td>-8.284935e-01</td>\n",
       "      <td>-8.284863e-01</td>\n",
       "      <td>-8.284825e-01</td>\n",
       "      <td>-8.284765e-01</td>\n",
       "      <td>-8.284698e-01</td>\n",
       "    </tr>\n",
       "    <tr>\n",
       "      <th>50%</th>\n",
       "      <td>-4.291834e-01</td>\n",
       "      <td>-4.295645e-01</td>\n",
       "      <td>-4.287528e-01</td>\n",
       "      <td>-4.291896e-01</td>\n",
       "      <td>-2.943564e-01</td>\n",
       "      <td>-3.445018e-03</td>\n",
       "      <td>-9.912081e-01</td>\n",
       "      <td>-4.291475e-01</td>\n",
       "      <td>-4.289717e-01</td>\n",
       "      <td>2.932480e-01</td>\n",
       "      <td>...</td>\n",
       "      <td>-4.313467e-01</td>\n",
       "      <td>-4.313389e-01</td>\n",
       "      <td>-4.313381e-01</td>\n",
       "      <td>-4.313308e-01</td>\n",
       "      <td>-4.313241e-01</td>\n",
       "      <td>-4.272139e-01</td>\n",
       "      <td>-4.272064e-01</td>\n",
       "      <td>-4.272020e-01</td>\n",
       "      <td>-4.271956e-01</td>\n",
       "      <td>-4.271881e-01</td>\n",
       "    </tr>\n",
       "    <tr>\n",
       "      <th>75%</th>\n",
       "      <td>8.603747e-01</td>\n",
       "      <td>8.604221e-01</td>\n",
       "      <td>8.599137e-01</td>\n",
       "      <td>8.603886e-01</td>\n",
       "      <td>1.273337e-01</td>\n",
       "      <td>3.923931e-01</td>\n",
       "      <td>1.008866e+00</td>\n",
       "      <td>8.607449e-01</td>\n",
       "      <td>8.605382e-01</td>\n",
       "      <td>6.072086e-01</td>\n",
       "      <td>...</td>\n",
       "      <td>8.615091e-01</td>\n",
       "      <td>8.615179e-01</td>\n",
       "      <td>8.615261e-01</td>\n",
       "      <td>8.615349e-01</td>\n",
       "      <td>8.615282e-01</td>\n",
       "      <td>8.597174e-01</td>\n",
       "      <td>8.597234e-01</td>\n",
       "      <td>8.597253e-01</td>\n",
       "      <td>8.597283e-01</td>\n",
       "      <td>8.597111e-01</td>\n",
       "    </tr>\n",
       "    <tr>\n",
       "      <th>max</th>\n",
       "      <td>2.486964e+00</td>\n",
       "      <td>2.487406e+00</td>\n",
       "      <td>2.483702e+00</td>\n",
       "      <td>2.486958e+00</td>\n",
       "      <td>3.035668e+01</td>\n",
       "      <td>2.725549e+01</td>\n",
       "      <td>1.008866e+00</td>\n",
       "      <td>2.472772e+00</td>\n",
       "      <td>2.471083e+00</td>\n",
       "      <td>7.751313e-01</td>\n",
       "      <td>...</td>\n",
       "      <td>2.479444e+00</td>\n",
       "      <td>2.479456e+00</td>\n",
       "      <td>2.479467e+00</td>\n",
       "      <td>2.479479e+00</td>\n",
       "      <td>2.479490e+00</td>\n",
       "      <td>2.485241e+00</td>\n",
       "      <td>2.485253e+00</td>\n",
       "      <td>2.485264e+00</td>\n",
       "      <td>2.485275e+00</td>\n",
       "      <td>2.485286e+00</td>\n",
       "    </tr>\n",
       "  </tbody>\n",
       "</table>\n",
       "<p>8 rows × 54 columns</p>\n",
       "</div>"
      ],
      "text/plain": [
       "               open          high           low         close        VolETH  \\\n",
       "count  2.434170e+05  2.434170e+05  2.434170e+05  2.434170e+05  2.434170e+05   \n",
       "mean   2.241819e-17 -5.978184e-17 -1.270364e-16  1.494546e-17 -2.653403e-16   \n",
       "std    1.000000e+00  1.000000e+00  1.000000e+00  1.000000e+00  1.000000e+00   \n",
       "min   -9.718544e-01 -9.701700e-01 -9.748694e-01 -9.720613e-01 -7.929719e-01   \n",
       "25%   -8.293724e-01 -8.295709e-01 -8.291714e-01 -8.293787e-01 -5.196482e-01   \n",
       "50%   -4.291834e-01 -4.295645e-01 -4.287528e-01 -4.291896e-01 -2.943564e-01   \n",
       "75%    8.603747e-01  8.604221e-01  8.599137e-01  8.603886e-01  1.273337e-01   \n",
       "max    2.486964e+00  2.487406e+00  2.483702e+00  2.486958e+00  3.035668e+01   \n",
       "\n",
       "            Returns     Direction           SMA           EMA           Min  \\\n",
       "count  2.434170e+05  2.434170e+05  2.434170e+05  2.434170e+05  2.434170e+05   \n",
       "mean   2.919035e-18  6.690428e-17 -2.017637e-16 -8.967275e-17  5.417729e-17   \n",
       "std    1.000000e+00  1.000000e+00  1.000000e+00  1.000000e+00  1.000000e+00   \n",
       "min   -3.045664e+01 -9.912081e-01 -9.636556e-01 -9.636843e-01 -1.953512e+01   \n",
       "25%   -3.927321e-01 -9.912081e-01 -8.293935e-01 -8.294219e-01 -2.309277e-01   \n",
       "50%   -3.445018e-03 -9.912081e-01 -4.291475e-01 -4.289717e-01  2.932480e-01   \n",
       "75%    3.923931e-01  1.008866e+00  8.607449e-01  8.605382e-01  6.072086e-01   \n",
       "max    2.725549e+01  1.008866e+00  2.472772e+00  2.471083e+00  7.751313e-01   \n",
       "\n",
       "       ...  UpperBB_lag_1  UpperBB_lag_2  UpperBB_lag_3  UpperBB_lag_4  \\\n",
       "count  ...   2.434170e+05   2.434170e+05   2.434170e+05   2.434170e+05   \n",
       "mean   ...   9.714548e-17   2.540728e-16   4.633092e-16  -4.633092e-16   \n",
       "std    ...   1.000000e+00   1.000000e+00   1.000000e+00   1.000000e+00   \n",
       "min    ...  -9.622218e-01  -9.622147e-01  -9.622075e-01  -9.622004e-01   \n",
       "25%    ...  -8.302366e-01  -8.302304e-01  -8.302233e-01  -8.302189e-01   \n",
       "50%    ...  -4.313467e-01  -4.313389e-01  -4.313381e-01  -4.313308e-01   \n",
       "75%    ...   8.615091e-01   8.615179e-01   8.615261e-01   8.615349e-01   \n",
       "max    ...   2.479444e+00   2.479456e+00   2.479467e+00   2.479479e+00   \n",
       "\n",
       "       UpperBB_lag_5  LowerBB_lag_1  LowerBB_lag_2  LowerBB_lag_3  \\\n",
       "count   2.434170e+05   2.434170e+05   2.434170e+05   2.434170e+05   \n",
       "mean    7.472730e-17   6.725457e-17  -3.138546e-16  -4.259456e-16   \n",
       "std     1.000000e+00   1.000000e+00   1.000000e+00   1.000000e+00   \n",
       "min    -9.621933e-01  -9.718111e-01  -9.718040e-01  -9.717969e-01   \n",
       "25%    -8.302128e-01  -8.284935e-01  -8.284863e-01  -8.284825e-01   \n",
       "50%    -4.313241e-01  -4.272139e-01  -4.272064e-01  -4.272020e-01   \n",
       "75%     8.615282e-01   8.597174e-01   8.597234e-01   8.597253e-01   \n",
       "max     2.479490e+00   2.485241e+00   2.485253e+00   2.485264e+00   \n",
       "\n",
       "       LowerBB_lag_4  LowerBB_lag_5  \n",
       "count   2.434170e+05   2.434170e+05  \n",
       "mean    2.989092e-16   1.793455e-16  \n",
       "std     1.000000e+00   1.000000e+00  \n",
       "min    -9.717898e-01  -9.717826e-01  \n",
       "25%    -8.284765e-01  -8.284698e-01  \n",
       "50%    -4.271956e-01  -4.271881e-01  \n",
       "75%     8.597283e-01   8.597111e-01  \n",
       "max     2.485275e+00   2.485286e+00  \n",
       "\n",
       "[8 rows x 54 columns]"
      ]
     },
     "execution_count": 6,
     "metadata": {},
     "output_type": "execute_result"
    }
   ],
   "source": [
    "mu, std = train.mean(), train.std()\n",
    "train_s = (train - mu) / std\n",
    "train_s.describe()"
   ]
  },
  {
   "cell_type": "code",
   "execution_count": 7,
   "metadata": {
    "scrolled": true,
    "tags": []
   },
   "outputs": [
    {
     "name": "stdout",
     "output_type": "stream",
     "text": [
      "Epoch 1/20\n",
      "6086/6086 [==============================] - 23s 4ms/step - loss: 0.2518 - accuracy: 0.5025 - val_loss: 0.2494 - val_accuracy: 0.5196\n",
      "Epoch 2/20\n",
      "6086/6086 [==============================] - 18s 3ms/step - loss: 0.2501 - accuracy: 0.5067 - val_loss: 0.2489 - val_accuracy: 0.5220\n",
      "Epoch 3/20\n",
      "6086/6086 [==============================] - 16s 3ms/step - loss: 0.2494 - accuracy: 0.5166 - val_loss: 0.2477 - val_accuracy: 0.5303\n",
      "Epoch 4/20\n",
      "6086/6086 [==============================] - 17s 3ms/step - loss: 0.2488 - accuracy: 0.5222 - val_loss: 0.2468 - val_accuracy: 0.5360\n",
      "Epoch 5/20\n",
      "6086/6086 [==============================] - 19s 3ms/step - loss: 0.2483 - accuracy: 0.5269 - val_loss: 0.2461 - val_accuracy: 0.5419\n",
      "Epoch 6/20\n",
      "6086/6086 [==============================] - 17s 3ms/step - loss: 0.2479 - accuracy: 0.5306 - val_loss: 0.2453 - val_accuracy: 0.5488\n",
      "Epoch 7/20\n",
      "6086/6086 [==============================] - 17s 3ms/step - loss: 0.2477 - accuracy: 0.5331 - val_loss: 0.2449 - val_accuracy: 0.5517\n",
      "Epoch 8/20\n",
      "6086/6086 [==============================] - 17s 3ms/step - loss: 0.2474 - accuracy: 0.5344 - val_loss: 0.2444 - val_accuracy: 0.5546\n",
      "Epoch 9/20\n",
      "6086/6086 [==============================] - 17s 3ms/step - loss: 0.2473 - accuracy: 0.5369 - val_loss: 0.2441 - val_accuracy: 0.5575\n",
      "Epoch 10/20\n",
      "6086/6086 [==============================] - 17s 3ms/step - loss: 0.2471 - accuracy: 0.5362 - val_loss: 0.2440 - val_accuracy: 0.5544\n",
      "Epoch 11/20\n",
      "6086/6086 [==============================] - 18s 3ms/step - loss: 0.2470 - accuracy: 0.5391 - val_loss: 0.2439 - val_accuracy: 0.5548\n",
      "Epoch 12/20\n",
      "6086/6086 [==============================] - 18s 3ms/step - loss: 0.2468 - accuracy: 0.5392 - val_loss: 0.2439 - val_accuracy: 0.5553\n",
      "Epoch 13/20\n",
      "6086/6086 [==============================] - 18s 3ms/step - loss: 0.2467 - accuracy: 0.5415 - val_loss: 0.2435 - val_accuracy: 0.5597\n",
      "Epoch 14/20\n",
      "6086/6086 [==============================] - 17s 3ms/step - loss: 0.2466 - accuracy: 0.5423 - val_loss: 0.2435 - val_accuracy: 0.5602\n",
      "Epoch 15/20\n",
      "6086/6086 [==============================] - 19s 3ms/step - loss: 0.2464 - accuracy: 0.5416 - val_loss: 0.2435 - val_accuracy: 0.5597\n",
      "Epoch 16/20\n",
      "6086/6086 [==============================] - 17s 3ms/step - loss: 0.2466 - accuracy: 0.5434 - val_loss: 0.2430 - val_accuracy: 0.5627\n",
      "Epoch 17/20\n",
      "6086/6086 [==============================] - 16s 3ms/step - loss: 0.2463 - accuracy: 0.5435 - val_loss: 0.2430 - val_accuracy: 0.5625\n",
      "Epoch 18/20\n",
      "6086/6086 [==============================] - 16s 3ms/step - loss: 0.2462 - accuracy: 0.5434 - val_loss: 0.2432 - val_accuracy: 0.5615\n",
      "Epoch 19/20\n",
      "6086/6086 [==============================] - 16s 3ms/step - loss: 0.2462 - accuracy: 0.5458 - val_loss: 0.2431 - val_accuracy: 0.5608\n",
      "Epoch 20/20\n",
      "6086/6086 [==============================] - 16s 3ms/step - loss: 0.2461 - accuracy: 0.5451 - val_loss: 0.2428 - val_accuracy: 0.5634\n"
     ]
    },
    {
     "data": {
      "text/plain": [
       "<tensorflow.python.keras.callbacks.History at 0x1afb7841250>"
      ]
     },
     "execution_count": 7,
     "metadata": {},
     "output_type": "execute_result"
    }
   ],
   "source": [
    "set_seeds(100)\n",
    "model = create_model(hl = 3, hu = 50, dropout= True, input_dim=len(cols))\n",
    "model.fit(x=train_s[cols], y= train['Direction'], epochs=20, verbose=True, validation_split=0.2, shuffle=False, class_weight=cw(train))"
   ]
  },
  {
   "cell_type": "code",
   "execution_count": 8,
   "metadata": {},
   "outputs": [
    {
     "name": "stdout",
     "output_type": "stream",
     "text": [
      "7607/7607 [==============================] - 10s 1ms/step - loss: 0.2437 - accuracy: 0.5596\n"
     ]
    },
    {
     "data": {
      "text/plain": [
       "[0.24365131556987762, 0.5595952868461609]"
      ]
     },
     "execution_count": 8,
     "metadata": {},
     "output_type": "execute_result"
    }
   ],
   "source": [
    "model.evaluate(train_s[cols], train['Direction'])"
   ]
  },
  {
   "cell_type": "code",
   "execution_count": 9,
   "metadata": {},
   "outputs": [
    {
     "data": {
      "image/png": "[encoded data removed]",
      "text/plain": [
       "<Figure size 432x288 with 1 Axes>"
      ]
     },
     "metadata": {
      "needs_background": "light"
     },
     "output_type": "display_data"
    }
   ],
   "source": [
    "pred = model.predict(train_s[cols])\n",
    "plt.hist(pred, bins=50)\n",
    "plt.show()"
   ]
  },
  {
   "cell_type": "code",
   "execution_count": 10,
   "metadata": {},
   "outputs": [
    {
     "name": "stdout",
     "output_type": "stream",
     "text": [
      "3261/3261 [==============================] - 2s 756us/step - loss: 0.6847 - accuracy: 0.5428\n"
     ]
    },
    {
     "data": {
      "text/plain": [
       "[0.6846846342086792, 0.5427905917167664]"
      ]
     },
     "execution_count": 10,
     "metadata": {},
     "output_type": "execute_result"
    }
   ],
   "source": [
    "test_s = (test - mu) / std\n",
    "model.evaluate(test_s[cols], test['Direction'])"
   ]
  },
  {
   "cell_type": "code",
   "execution_count": 11,
   "metadata": {},
   "outputs": [
    {
     "data": {
      "text/plain": [
       "(array([3.0000e+00, 0.0000e+00, 4.0000e+00, 2.0000e+00, 9.0000e+00,\n",
       "        7.0000e+00, 8.0000e+00, 8.0000e+00, 1.8000e+01, 2.4000e+01,\n",
       "        3.2000e+01, 2.8000e+01, 4.2000e+01, 5.7000e+01, 6.6000e+01,\n",
       "        7.5000e+01, 1.1700e+02, 2.2300e+02, 5.3500e+02, 1.6220e+03,\n",
       "        3.8540e+03, 6.4840e+03, 8.6460e+03, 9.5820e+03, 1.1100e+04,\n",
       "        1.0512e+04, 1.1127e+04, 1.2282e+04, 1.1426e+04, 7.9720e+03,\n",
       "        4.3640e+03, 2.0470e+03, 9.1300e+02, 4.4400e+02, 2.5100e+02,\n",
       "        1.2100e+02, 9.7000e+01, 5.5000e+01, 4.5000e+01, 2.5000e+01,\n",
       "        2.4000e+01, 2.0000e+01, 1.1000e+01, 9.0000e+00, 1.5000e+01,\n",
       "        6.0000e+00, 3.0000e+00, 3.0000e+00, 1.0000e+00, 3.0000e+00]),\n",
       " array([0.06365505, 0.08057959, 0.09750413, 0.11442868, 0.13135321,\n",
       "        0.14827776, 0.1652023 , 0.18212685, 0.1990514 , 0.21597594,\n",
       "        0.23290047, 0.24982502, 0.26674956, 0.2836741 , 0.30059865,\n",
       "        0.31752318, 0.33444774, 0.35137227, 0.36829683, 0.38522136,\n",
       "        0.4021459 , 0.41907045, 0.43599498, 0.45291954, 0.46984407,\n",
       "        0.48676863, 0.50369316, 0.5206177 , 0.5375422 , 0.5544668 ,\n",
       "        0.57139134, 0.5883159 , 0.6052404 , 0.62216496, 0.6390895 ,\n",
       "        0.656014  , 0.6729386 , 0.68986315, 0.70678765, 0.7237122 ,\n",
       "        0.74063677, 0.7575613 , 0.7744858 , 0.7914104 , 0.80833495,\n",
       "        0.82525945, 0.842184  , 0.85910857, 0.8760331 , 0.8929576 ,\n",
       "        0.9098822 ], dtype=float32),\n",
       " <BarContainer object of 50 artists>)"
      ]
     },
     "execution_count": 11,
     "metadata": {},
     "output_type": "execute_result"
    },
    {
     "data": {
      "image/png": "[encoded data removed]",
      "text/plain": [
       "<Figure size 432x288 with 1 Axes>"
      ]
     },
     "metadata": {
      "needs_background": "light"
     },
     "output_type": "display_data"
    }
   ],
   "source": [
    "pred= model.predict(test_s[cols])\n",
    "plt.hist(pred, bins=50)"
   ]
  },
  {
   "cell_type": "code",
   "execution_count": 12,
   "metadata": {},
   "outputs": [],
   "source": [
    "test['proba'] = model.predict(test_s[cols])"
   ]
  },
  {
   "cell_type": "code",
   "execution_count": 13,
   "metadata": {},
   "outputs": [],
   "source": [
    "test['position'] = np.where(test.proba < 0.42, -1, np.nan)\n",
    "test['position'] = np.where(test.proba > 0.6, 1, test.position)"
   ]
  },
  {
   "cell_type": "code",
   "execution_count": 14,
   "metadata": {},
   "outputs": [
    {
     "data": {
      "text/plain": [
       " NaN    94786\n",
       "-1.0     7023\n",
       " 1.0     2513\n",
       "Name: position, dtype: int64"
      ]
     },
     "execution_count": 14,
     "metadata": {},
     "output_type": "execute_result"
    }
   ],
   "source": [
    "test.position.value_counts(dropna=False)"
   ]
  },
  {
   "cell_type": "code",
   "execution_count": 15,
   "metadata": {},
   "outputs": [
    {
     "name": "stdout",
     "output_type": "stream",
     "text": [
      "INFO:tensorflow:Assets written to: DNNMODEL\\assets\n"
     ]
    }
   ],
   "source": [
    "model.save(\"DNNMODEL\")"
   ]
  },
  {
   "cell_type": "code",
   "execution_count": 16,
   "metadata": {},
   "outputs": [],
   "source": [
    "import pickle"
   ]
  },
  {
   "cell_type": "code",
   "execution_count": 17,
   "metadata": {},
   "outputs": [],
   "source": [
    "params = {\"mu\":mu, \"std\":std}"
   ]
  },
  {
   "cell_type": "code",
   "execution_count": 18,
   "metadata": {},
   "outputs": [],
   "source": [
    "pickle.dump(params, open(\"params.pkl\", \"wb\"))"
   ]
  },
  {
   "cell_type": "code",
   "execution_count": null,
   "metadata": {},
   "outputs": [],
   "source": []
  }
 ],
 "metadata": {
  "kernelspec": {
   "display_name": "Python 3",
   "language": "python",
   "name": "python3"
  },
  "language_info": {
   "codemirror_mode": {
    "name": "ipython",
    "version": 3
   },
   "file_extension": ".py",
   "mimetype": "text/x-python",
   "name": "python",
   "nbconvert_exporter": "python",
   "pygments_lexer": "ipython3",
   "version": "3.8.6"
  }
 },
 "nbformat": 4,
 "nbformat_minor": 4
}
